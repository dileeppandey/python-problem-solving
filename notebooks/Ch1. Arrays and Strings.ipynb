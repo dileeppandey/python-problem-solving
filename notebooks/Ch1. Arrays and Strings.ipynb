{
 "cells": [
  {
   "cell_type": "markdown",
   "metadata": {},
   "source": [
    "# Arrays and Strings"
   ]
  },
  {
   "cell_type": "markdown",
   "metadata": {},
   "source": [
    "## Arrays\n",
    "\n",
    "```python\n",
    "\n",
    "arr = []\n",
    "arr.append(3)\n",
    "\n",
    "for i in range(5):\n",
    "    arr.append(i)\n",
    "\n",
    "for i, num in enumerate(arr):\n",
    "    print(i, num)\n",
    "```"
   ]
  },
  {
   "cell_type": "code",
   "execution_count": 5,
   "metadata": {},
   "outputs": [
    {
     "name": "stdout",
     "output_type": "stream",
     "text": [
      "Index: 0 Value: 0\n",
      "Index: 1 Value: 1\n",
      "Index: 2 Value: 2\n",
      "Index: 3 Value: 3\n",
      "Index: 4 Value: 4\n"
     ]
    }
   ],
   "source": [
    "numbers = []\n",
    "for i in range(5):\n",
    "    numbers.append(i)\n",
    "\n",
    "for i, num in enumerate(numbers):\n",
    "    print(f\"Index: {i} Value: {num}\")"
   ]
  },
  {
   "cell_type": "code",
   "execution_count": null,
   "metadata": {},
   "outputs": [],
   "source": []
  }
 ],
 "metadata": {
  "kernelspec": {
   "display_name": "Python 3",
   "language": "python",
   "name": "python3"
  },
  "language_info": {
   "codemirror_mode": {
    "name": "ipython",
    "version": 3
   },
   "file_extension": ".py",
   "mimetype": "text/x-python",
   "name": "python",
   "nbconvert_exporter": "python",
   "pygments_lexer": "ipython3",
   "version": "3.8.5"
  }
 },
 "nbformat": 4,
 "nbformat_minor": 4
}
